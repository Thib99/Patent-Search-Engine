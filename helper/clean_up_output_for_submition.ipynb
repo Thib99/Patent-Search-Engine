{
 "cells": [
  {
   "cell_type": "code",
   "execution_count": 13,
   "metadata": {},
   "outputs": [],
   "source": [
    "import pandas as pd\n",
    "import json"
   ]
  },
  {
   "cell_type": "code",
   "execution_count": 18,
   "metadata": {},
   "outputs": [],
   "source": [
    "df = pd.read_json('./dense_final_100_dataset.json')"
   ]
  },
  {
   "cell_type": "code",
   "execution_count": 9,
   "metadata": {},
   "outputs": [
    {
     "data": {
      "text/html": [
       "<div>\n",
       "<style scoped>\n",
       "    .dataframe tbody tr th:only-of-type {\n",
       "        vertical-align: middle;\n",
       "    }\n",
       "\n",
       "    .dataframe tbody tr th {\n",
       "        vertical-align: top;\n",
       "    }\n",
       "\n",
       "    .dataframe thead th {\n",
       "        text-align: right;\n",
       "    }\n",
       "</style>\n",
       "<table border=\"1\" class=\"dataframe\">\n",
       "  <thead>\n",
       "    <tr style=\"text-align: right;\">\n",
       "      <th></th>\n",
       "      <th>app_nb</th>\n",
       "      <th>app_nb_pids</th>\n",
       "    </tr>\n",
       "  </thead>\n",
       "  <tbody>\n",
       "    <tr>\n",
       "      <th>0</th>\n",
       "      <td>3586605A1</td>\n",
       "      <td>[[2043868B1, p0016], [3369617A1, p0118], [3326...</td>\n",
       "    </tr>\n",
       "    <tr>\n",
       "      <th>1</th>\n",
       "      <td>3586688A1</td>\n",
       "      <td>[[1793984B1, p0031], [2949199A1, p0013], [2936...</td>\n",
       "    </tr>\n",
       "    <tr>\n",
       "      <th>2</th>\n",
       "      <td>3586697A1</td>\n",
       "      <td>[[1799441B1, p0023], [1793984B1, p0001], [2659...</td>\n",
       "    </tr>\n",
       "    <tr>\n",
       "      <th>3</th>\n",
       "      <td>3586762A1</td>\n",
       "      <td>[[1773519B1, p0038], [1990066B1, p0032], [1773...</td>\n",
       "    </tr>\n",
       "    <tr>\n",
       "      <th>4</th>\n",
       "      <td>3586766A1</td>\n",
       "      <td>[[1791587B1, p0041], [2777517A1, pa01], [17652...</td>\n",
       "    </tr>\n",
       "    <tr>\n",
       "      <th>...</th>\n",
       "      <td>...</td>\n",
       "      <td>...</td>\n",
       "    </tr>\n",
       "    <tr>\n",
       "      <th>995</th>\n",
       "      <td>3758046A1</td>\n",
       "      <td>[[1791171B1, p0045], [1766694B1, p0020], [1914...</td>\n",
       "    </tr>\n",
       "    <tr>\n",
       "      <th>996</th>\n",
       "      <td>3758220A1</td>\n",
       "      <td>[[2876810A1, p0004], [2843832A1, p0045], [3337...</td>\n",
       "    </tr>\n",
       "    <tr>\n",
       "      <th>997</th>\n",
       "      <td>3758425A1</td>\n",
       "      <td>[[3285311A1, p0094], [3346371A1, p0155], [1732...</td>\n",
       "    </tr>\n",
       "    <tr>\n",
       "      <th>998</th>\n",
       "      <td>3758443A1</td>\n",
       "      <td>[[2144154A2, p0015], [1790488B1, p0014], [2767...</td>\n",
       "    </tr>\n",
       "    <tr>\n",
       "      <th>999</th>\n",
       "      <td>3758460A1</td>\n",
       "      <td>[[2669421A1, p0054], [3260785A1, p0063], [2013...</td>\n",
       "    </tr>\n",
       "  </tbody>\n",
       "</table>\n",
       "<p>1000 rows × 2 columns</p>\n",
       "</div>"
      ],
      "text/plain": [
       "        app_nb                                        app_nb_pids\n",
       "0    3586605A1  [[2043868B1, p0016], [3369617A1, p0118], [3326...\n",
       "1    3586688A1  [[1793984B1, p0031], [2949199A1, p0013], [2936...\n",
       "2    3586697A1  [[1799441B1, p0023], [1793984B1, p0001], [2659...\n",
       "3    3586762A1  [[1773519B1, p0038], [1990066B1, p0032], [1773...\n",
       "4    3586766A1  [[1791587B1, p0041], [2777517A1, pa01], [17652...\n",
       "..         ...                                                ...\n",
       "995  3758046A1  [[1791171B1, p0045], [1766694B1, p0020], [1914...\n",
       "996  3758220A1  [[2876810A1, p0004], [2843832A1, p0045], [3337...\n",
       "997  3758425A1  [[3285311A1, p0094], [3346371A1, p0155], [1732...\n",
       "998  3758443A1  [[2144154A2, p0015], [1790488B1, p0014], [2767...\n",
       "999  3758460A1  [[2669421A1, p0054], [3260785A1, p0063], [2013...\n",
       "\n",
       "[1000 rows x 2 columns]"
      ]
     },
     "execution_count": 9,
     "metadata": {},
     "output_type": "execute_result"
    }
   ],
   "source": [
    "df"
   ]
  },
  {
   "cell_type": "code",
   "execution_count": 19,
   "metadata": {},
   "outputs": [
    {
     "name": "stdout",
     "output_type": "stream",
     "text": [
      "Data has been saved to output.json\n"
     ]
    }
   ],
   "source": [
    "import pandas as pd\n",
    "import json\n",
    "\n",
    "\n",
    "\n",
    "# Process the data\n",
    "result = {}\n",
    "for _, row in df.iterrows():\n",
    "    app_nb = row['app_nb']\n",
    "    app_nb_pids = row['app_nb_pids']\n",
    "    # Keep only the first element of each sub-array\n",
    "    result[app_nb] = [pid[0] for pid in app_nb_pids]\n",
    "\n",
    "# Save to a JSON file\n",
    "with open('output.json', 'w') as json_file:\n",
    "    json.dump(result, json_file, indent=4)\n",
    "\n",
    "print(\"Data has been saved to output.json\")\n"
   ]
  },
  {
   "cell_type": "code",
   "execution_count": null,
   "metadata": {},
   "outputs": [],
   "source": [
    "df"
   ]
  }
 ],
 "metadata": {
  "kernelspec": {
   "display_name": "Python 3",
   "language": "python",
   "name": "python3"
  },
  "language_info": {
   "codemirror_mode": {
    "name": "ipython",
    "version": 3
   },
   "file_extension": ".py",
   "mimetype": "text/x-python",
   "name": "python",
   "nbconvert_exporter": "python",
   "pygments_lexer": "ipython3",
   "version": "3.12.9"
  }
 },
 "nbformat": 4,
 "nbformat_minor": 2
}
